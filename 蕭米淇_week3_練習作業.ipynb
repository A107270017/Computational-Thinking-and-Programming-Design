{
  "nbformat": 4,
  "nbformat_minor": 0,
  "metadata": {
    "colab": {
      "name": "蕭米淇-week3-練習作業.ipynb",
      "provenance": [],
      "collapsed_sections": [],
      "authorship_tag": "ABX9TyOZXt1QznRNpRz9PuQJIuKJ",
      "include_colab_link": true
    },
    "kernelspec": {
      "name": "python3",
      "display_name": "Python 3"
    }
  },
  "cells": [
    {
      "cell_type": "markdown",
      "metadata": {
        "id": "view-in-github",
        "colab_type": "text"
      },
      "source": [
        "<a href=\"https://colab.research.google.com/github/A107270017/Computational-Thinking-and-Programming-Design/blob/main/%E8%95%AD%E7%B1%B3%E6%B7%87_week3_%E7%B7%B4%E7%BF%92%E4%BD%9C%E6%A5%AD.ipynb\" target=\"_parent\"><img src=\"https://colab.research.google.com/assets/colab-badge.svg\" alt=\"Open In Colab\"/></a>"
      ]
    },
    {
      "cell_type": "markdown",
      "metadata": {
        "id": "Qfa7ozBFNesN"
      },
      "source": [
        "#隨堂練習"
      ]
    },
    {
      "cell_type": "code",
      "metadata": {
        "colab": {
          "base_uri": "https://localhost:8080/"
        },
        "id": "VxRh8idSNln4",
        "outputId": "4c022bbf-57a6-4322-f7a3-35b043dfa3be"
      },
      "source": [
        "print(1+1)"
      ],
      "execution_count": 2,
      "outputs": [
        {
          "output_type": "stream",
          "text": [
            "2\n"
          ],
          "name": "stdout"
        }
      ]
    },
    {
      "cell_type": "markdown",
      "metadata": {
        "id": "j-mtw9lKV4PJ"
      },
      "source": [
        "# **{運算思維的四個基石}**\r\n",
        "1.問題拆解 2.抽象化 3.模式辨識(最抽象) 4.演算法(最關鍵的結尾)\r\n",
        "# **{甚麼是運算思維}**\r\n",
        "運算思維是一個思考的程序,目的是闡明問題,並呈現其解決方案,讓機器\r\n",
        "與人能夠有效率地執行\r\n",
        "# **程式語言是電腦跟人溝通的橋樑**\r\n",
        "\r\n",
        "# **用電腦解決問題的四個步驟**\r\n",
        "1.運算思維 2.程式設計 3.程式編碼 4.測試與除錯\r\n",
        "# {**電腦的工作方式**}\r\n",
        "1.輸入 (input)\r\n",
        "2.輸出 (output)\r\n",
        "3.處理 (process)\r\n",
        "# **「撰寫程式碼」的工作只是「用電腦解決問題」的一部分而已,最重要的部分不是學會寫程式碼,而是運算思維**"
      ]
    },
    {
      "cell_type": "markdown",
      "metadata": {
        "id": "CcaP1se2OLSH"
      },
      "source": [
        "認識電腦\r\n"
      ]
    },
    {
      "cell_type": "code",
      "metadata": {
        "id": "IjhaqX-fONTH"
      },
      "source": [
        ""
      ],
      "execution_count": null,
      "outputs": []
    },
    {
      "cell_type": "markdown",
      "metadata": {
        "id": "53nG4lnCOO7v"
      },
      "source": [
        "#課後練習"
      ]
    },
    {
      "cell_type": "markdown",
      "metadata": {
        "id": "woze1Po9OmD3"
      },
      "source": [
        "從一則新聞報導，提出你對新聞系（OO系）學生為什麼要學「運算思維與程式設計」的見解。（告訴我新聞連結，以及你的觀點即可。）"
      ]
    },
    {
      "cell_type": "markdown",
      "metadata": {
        "id": "5bLa2mNYRoE1"
      },
      "source": [
        "https://www.managertoday.com.tw/articles/view/55799"
      ]
    },
    {
      "cell_type": "markdown",
      "metadata": {
        "id": "dMsBDhfpRsLk"
      },
      "source": [
        "從這篇報導中我得知學習運算思維可以把思考融入生活或商業案例，並且可以透過程式設計來解決各自的問題,上述還有說到{企業贏的關鍵，就在資訊科技的運用},這也跟是企管系的我有所關聯,隨著時間增長，人工智慧的時代漸漸重要,慢慢有些企業利用資訊科技提升或取得核心競爭,也就是說在同個產業裡，只要你比對手懂得更多資訊科技，就會取得優勢,若去應徵企業公司,會寫程式或是理解並且會實作運算思維,就會優先被錄取,因為我會得比別人多,從不認識到學會程式設計後，不僅可以提升工作效率、解決問題能力，讓做事情的思維有所轉變，更能培養運算思維!"
      ]
    },
    {
      "cell_type": "code",
      "metadata": {
        "id": "aGV8Rt_NTbjI"
      },
      "source": [
        ""
      ],
      "execution_count": null,
      "outputs": []
    }
  ]
}