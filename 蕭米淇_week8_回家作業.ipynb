{
  "nbformat": 4,
  "nbformat_minor": 0,
  "metadata": {
    "colab": {
      "name": "蕭米淇-week8-回家作業.ipynb",
      "provenance": [],
      "authorship_tag": "ABX9TyOBUunZy3zMwyYVliDFteaB",
      "include_colab_link": true
    },
    "kernelspec": {
      "name": "python3",
      "display_name": "Python 3"
    },
    "language_info": {
      "name": "python"
    }
  },
  "cells": [
    {
      "cell_type": "markdown",
      "metadata": {
        "id": "view-in-github",
        "colab_type": "text"
      },
      "source": [
        "<a href=\"https://colab.research.google.com/github/A107270017/Computational-Thinking-and-Programming-Design/blob/main/%E8%95%AD%E7%B1%B3%E6%B7%87_week8_%E5%9B%9E%E5%AE%B6%E4%BD%9C%E6%A5%AD.ipynb\" target=\"_parent\"><img src=\"https://colab.research.google.com/assets/colab-badge.svg\" alt=\"Open In Colab\"/></a>"
      ]
    },
    {
      "cell_type": "markdown",
      "metadata": {
        "id": "-cdPwuKLIWeS"
      },
      "source": [
        "練習5: 整理圖書\n",
        "輸入兩個正整數a = 13和b = 11，將換a和b的值，即a = 11和b = 13。"
      ]
    },
    {
      "cell_type": "code",
      "metadata": {
        "colab": {
          "base_uri": "https://localhost:8080/"
        },
        "id": "M_Hr3whYIYJV",
        "outputId": "db227dd3-804c-492f-faab-46057ce281c7"
      },
      "source": [
        "a = eval(input('a'))\n",
        "b = eval(input('b'))\n",
        "a, b = b, a\n",
        "print(a, b)"
      ],
      "execution_count": 2,
      "outputs": [
        {
          "output_type": "stream",
          "text": [
            "a13\n",
            "b11\n",
            "11 13\n"
          ],
          "name": "stdout"
        }
      ]
    },
    {
      "cell_type": "markdown",
      "metadata": {
        "id": "zmoiKHALIt8u"
      },
      "source": [
        "請問糖果屋的input是什麼?"
      ]
    }
  ]
}