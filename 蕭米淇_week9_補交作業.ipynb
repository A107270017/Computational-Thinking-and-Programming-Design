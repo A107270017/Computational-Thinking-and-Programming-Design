{
  "nbformat": 4,
  "nbformat_minor": 0,
  "metadata": {
    "colab": {
      "name": "蕭米淇-week9-補交作業.ipynb",
      "provenance": [],
      "authorship_tag": "ABX9TyNgfUKFVc59stOQpXT4wi90",
      "include_colab_link": true
    },
    "kernelspec": {
      "name": "python3",
      "display_name": "Python 3"
    },
    "language_info": {
      "name": "python"
    }
  },
  "cells": [
    {
      "cell_type": "markdown",
      "metadata": {
        "id": "view-in-github",
        "colab_type": "text"
      },
      "source": [
        "<a href=\"https://colab.research.google.com/github/A107270017/Computational-Thinking-and-Programming-Design/blob/main/%E8%95%AD%E7%B1%B3%E6%B7%87_week9_%E8%A3%9C%E4%BA%A4%E4%BD%9C%E6%A5%AD.ipynb\" target=\"_parent\"><img src=\"https://colab.research.google.com/assets/colab-badge.svg\" alt=\"Open In Colab\"/></a>"
      ]
    },
    {
      "cell_type": "code",
      "metadata": {
        "colab": {
          "base_uri": "https://localhost:8080/"
        },
        "id": "ne2YZT7rgQ7Q",
        "outputId": "f8284906-8d2b-45ed-8c8e-d824e6239659"
      },
      "source": [
        "movie_title = \"Listen before you sing\" #電影名稱\n",
        "release_year = \"2021/04/16\" #放映日期\n",
        "movie_time_min = \"115\" #片長\n",
        "movie_rating = \"3.6\"\n",
        "director = \"楊智麟\" #導演\n",
        "stars_1 = \"陳嘉樺\" #主要演員1\n",
        "stars_2 =\"\" #主要演員2\n",
        "like = 1 #你喜不喜歡\n",
        "print(movie_title)\n",
        "print(release_year)\n",
        "print(movie_time_min)"
      ],
      "execution_count": 5,
      "outputs": [
        {
          "output_type": "stream",
          "text": [
            "Listen before you sing\n",
            "2021/04/16\n",
            "115\n"
          ],
          "name": "stdout"
        }
      ]
    },
    {
      "cell_type": "code",
      "metadata": {
        "colab": {
          "base_uri": "https://localhost:8080/"
        },
        "id": "YmUA4ivTgcfA",
        "outputId": "eab75022-24ec-4125-c854-fb42d81b7fdb"
      },
      "source": [
        "name=\"金泫雅\"\n",
        "birthday=\"1989年6月6日\"\n",
        "birthplace=\"南韓\"\n",
        "occupation=\"歌手\"\n",
        "print(\"韓國演員檔案:\\n姓名:{}\\n生日:{}\\n國籍:{}\\n職業:{}\".format(name,birthday,birthplace,occupation))"
      ],
      "execution_count": 7,
      "outputs": [
        {
          "output_type": "stream",
          "text": [
            "韓國演員檔案:\n",
            "姓名:金泫雅\n",
            "生日:1989年6月6日\n",
            "國籍:南韓\n",
            "職業:歌手\n"
          ],
          "name": "stdout"
        }
      ]
    },
    {
      "cell_type": "code",
      "metadata": {
        "colab": {
          "base_uri": "https://localhost:8080/"
        },
        "id": "sq6YMduOg1h4",
        "outputId": "565c220f-8b7c-4bd3-b123-fbb767f606cd"
      },
      "source": [
        "time=123\n",
        "hours = time / 60 #123/60=2.05\n",
        "hours1=int(hours) #取整數為時\n",
        "hours1\n",
        "\n",
        "minutes = hours1 - hours\n",
        "minutes1 = round(minutes * 60)\n",
        "minutes1"
      ],
      "execution_count": 8,
      "outputs": [
        {
          "output_type": "execute_result",
          "data": {
            "text/plain": [
              "-3"
            ]
          },
          "metadata": {
            "tags": []
          },
          "execution_count": 8
        }
      ]
    },
    {
      "cell_type": "code",
      "metadata": {
        "id": "6z-RW3ehhDst"
      },
      "source": [
        ""
      ],
      "execution_count": null,
      "outputs": []
    },
    {
      "cell_type": "code",
      "metadata": {
        "colab": {
          "base_uri": "https://localhost:8080/"
        },
        "id": "QBYLI952hHCG",
        "outputId": "68f623f2-e6b5-48df-eb5b-2869cba2fb34"
      },
      "source": [
        "sum=0\n",
        "\n",
        "sum=sum+(6*60+32)\n",
        "print(\"用時\",sum//60,\"分\",sum%60,\"秒\")\n",
        "sum=sum+(7*60+21)\n",
        "print(\"用時\",sum//60,\"分\",sum%60,\"秒\")\n",
        "sum=sum+(5*60+51)\n",
        "print(\"用時\",sum//60,\"分\",sum%60,\"秒\")\n",
        "sum=sum+(7*60+3)\n",
        "print(\"用時\",sum//60,\"分\",sum%60,\"秒\")"
      ],
      "execution_count": 9,
      "outputs": [
        {
          "output_type": "stream",
          "text": [
            "用時 6 分 32 秒\n",
            "用時 13 分 53 秒\n",
            "用時 19 分 44 秒\n",
            "用時 26 分 47 秒\n"
          ],
          "name": "stdout"
        }
      ]
    },
    {
      "cell_type": "code",
      "metadata": {
        "id": "hvog4UmyhHo2"
      },
      "source": [
        "seats = int(input('請輸入座號?')) #文字轉數字\n",
        "groups = (seats - 1)// 5 + 1\n",
        "print('組別為',groups)\n"
      ],
      "execution_count": null,
      "outputs": []
    },
    {
      "cell_type": "code",
      "metadata": {
        "id": "ZMmtodPzhKsm"
      },
      "source": [
        ""
      ],
      "execution_count": null,
      "outputs": []
    }
  ]
}