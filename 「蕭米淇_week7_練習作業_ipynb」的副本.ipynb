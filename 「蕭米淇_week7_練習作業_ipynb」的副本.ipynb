{
  "nbformat": 4,
  "nbformat_minor": 0,
  "metadata": {
    "colab": {
      "name": "「蕭米淇-week6-練習作業.ipynb」的副本",
      "provenance": [],
      "collapsed_sections": [],
      "authorship_tag": "ABX9TyO4Z3IBGEEWG0Ex1iNtYhYj",
      "include_colab_link": true
    },
    "kernelspec": {
      "name": "python3",
      "display_name": "Python 3"
    }
  },
  "cells": [
    {
      "cell_type": "markdown",
      "metadata": {
        "id": "view-in-github",
        "colab_type": "text"
      },
      "source": [
        "<a href=\"https://colab.research.google.com/github/A107270017/Computational-Thinking-and-Programming-Design/blob/main/%E3%80%8C%E8%95%AD%E7%B1%B3%E6%B7%87_week6_%E7%B7%B4%E7%BF%92%E4%BD%9C%E6%A5%AD_ipynb%E3%80%8D%E7%9A%84%E5%89%AF%E6%9C%AC.ipynb\" target=\"_parent\"><img src=\"https://colab.research.google.com/assets/colab-badge.svg\" alt=\"Open In Colab\"/></a>"
      ]
    },
    {
      "cell_type": "code",
      "metadata": {
        "colab": {
          "base_uri": "https://localhost:8080/"
        },
        "id": "pG_T2zacixoh",
        "outputId": "6272f65d-8117-4b6d-9cf2-a95568cb1d28"
      },
      "source": [
        "name = input('請問貴姓大名?')\n",
        "print('你好,', name)"
      ],
      "execution_count": 3,
      "outputs": [
        {
          "output_type": "stream",
          "text": [
            "請問貴姓大名?Micky\n",
            "你好, Micky\n"
          ],
          "name": "stdout"
        }
      ]
    },
    {
      "cell_type": "code",
      "metadata": {
        "colab": {
          "base_uri": "https://localhost:8080/"
        },
        "id": "n9VGAH41i0L_",
        "outputId": "c032e1d6-d4ea-4514-a965-feed0b401a1b"
      },
      "source": [
        "weight = eval(input('請問體重?'))\n",
        "type(weight)\n",
        "print('體重為', weight)"
      ],
      "execution_count": 4,
      "outputs": [
        {
          "output_type": "stream",
          "text": [
            "請問體重?65\n",
            "體重為 65\n"
          ],
          "name": "stdout"
        }
      ]
    },
    {
      "cell_type": "code",
      "metadata": {
        "colab": {
          "base_uri": "https://localhost:8080/"
        },
        "id": "gA0EufIejakK",
        "outputId": "f4baf0b8-a8ab-40df-f213-05522710d691"
      },
      "source": [
        "age = int(input('請問年紀?'))\n",
        "print('原來你', age ,'歲')\n"
      ],
      "execution_count": 5,
      "outputs": [
        {
          "output_type": "stream",
          "text": [
            "請問年紀?21\n",
            "原來你 21 歲\n"
          ],
          "name": "stdout"
        }
      ]
    },
    {
      "cell_type": "code",
      "metadata": {
        "colab": {
          "base_uri": "https://localhost:8080/"
        },
        "id": "erD5w_lejwDV",
        "outputId": "ec671b51-a45f-40a2-9da6-c8612a3c3b9a"
      },
      "source": [
        "## 給我半徑、用公式計算圓面積與周長\n",
        "## Input\n",
        "radius = float(input('請輸入半徑?'))\n",
        "PI = 3.14159\n",
        "## Process\n",
        "circumference = 2 * PI * radius\n",
        "area = radius * radius * PI\n",
        "## Output\n",
        "print(f'圓周長為 {circumference}, 圓面積為 {area}。')"
      ],
      "execution_count": 6,
      "outputs": [
        {
          "output_type": "stream",
          "text": [
            "請輸入半徑?10\n",
            "圓周長為 62.8318, 圓面積為 314.159。\n"
          ],
          "name": "stdout"
        }
      ]
    },
    {
      "cell_type": "markdown",
      "metadata": {
        "id": "zE9rgN9UmI_7"
      },
      "source": [
        "輸入外圓直徑r1與內圓直徑r2,求圓環面積。"
      ]
    },
    {
      "cell_type": "code",
      "metadata": {
        "colab": {
          "base_uri": "https://localhost:8080/"
        },
        "id": "o3sDSSoApa2w",
        "outputId": "d200df46-bd88-4397-dd38-446364bd6d7b"
      },
      "source": [
        "r1 = eval(input(\"輸入外圓的直徑:\"))\n",
        "r2 = eval(input(\"輸入內圓的直徑:\"))\n",
        "s1 = 3.14 * r1/2 * r1/2\n",
        "s2 = 3.14 * r2/2 * r2/2\n",
        "s3 = s1 - s2\n",
        "print(\"外圓面積為\", s1)\n",
        "print(\"內圓面積為\", s2)\n",
        "print(\"圓環面積為\", s3)"
      ],
      "execution_count": 13,
      "outputs": [
        {
          "output_type": "stream",
          "text": [
            "輸入外圓的直徑:8\n",
            "輸入內圓的直徑:6\n",
            "外圓面積為 50.24\n",
            "內圓面積為 28.259999999999998\n",
            "圓環面積為 21.980000000000004\n"
          ],
          "name": "stdout"
        }
      ]
    },
    {
      "cell_type": "markdown",
      "metadata": {
        "id": "G9I0f88poKxq"
      },
      "source": [
        "英制轉公制\n"
      ]
    },
    {
      "cell_type": "code",
      "metadata": {
        "colab": {
          "base_uri": "https://localhost:8080/"
        },
        "id": "vfZvM2QRoN_3",
        "outputId": "b4c0e7a4-157c-4765-85c8-4e8b2a447a12"
      },
      "source": [
        "f = int(input('請輸入幾公尺?'))\n",
        "i = int(input('請輸入幾吋'))\n",
        "ans = (f*12+i)*2.54\n",
        "print('轉換成',ans,'公分')"
      ],
      "execution_count": 12,
      "outputs": [
        {
          "output_type": "stream",
          "text": [
            "請輸入幾公尺?8\n",
            "請輸入幾吋5\n",
            "轉換成 256.54 公分\n"
          ],
          "name": "stdout"
        }
      ]
    }
  ]
}
