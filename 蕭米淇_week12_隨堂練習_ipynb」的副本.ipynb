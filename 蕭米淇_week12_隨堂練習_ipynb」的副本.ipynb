{
  "nbformat": 4,
  "nbformat_minor": 0,
  "metadata": {
    "kernelspec": {
      "display_name": "Python 3",
      "language": "python",
      "name": "python3"
    },
    "language_info": {
      "codemirror_mode": {
        "name": "ipython",
        "version": 3
      },
      "file_extension": ".py",
      "mimetype": "text/x-python",
      "name": "python",
      "nbconvert_exporter": "python",
      "pygments_lexer": "ipython3",
      "version": "3.8.5"
    },
    "colab": {
      "name": "蕭米淇-week12-隨堂練習.ipynb」的副本",
      "provenance": [],
      "include_colab_link": true
    }
  },
  "cells": [
    {
      "cell_type": "markdown",
      "metadata": {
        "id": "view-in-github",
        "colab_type": "text"
      },
      "source": [
        "<a href=\"https://colab.research.google.com/github/A107270017/Computational-Thinking-and-Programming-Design/blob/main/%E8%95%AD%E7%B1%B3%E6%B7%87_week12_%E9%9A%A8%E5%A0%82%E7%B7%B4%E7%BF%92_ipynb%E3%80%8D%E7%9A%84%E5%89%AF%E6%9C%AC.ipynb\" target=\"_parent\"><img src=\"https://colab.research.google.com/assets/colab-badge.svg\" alt=\"Open In Colab\"/></a>"
      ]
    },
    {
      "cell_type": "markdown",
      "metadata": {
        "id": "674g1k4mzaXf"
      },
      "source": [
        "#### 隨堂練習: 滿2000 打九折\n",
        "\n",
        "**請寫一個程式幫助店家計算顧客所需付出的金額。**\n",
        "\n",
        "採買物品時，有時會遇到店家為了刺激消費，會使用滿額折扣。例如，滿2000 打九折，未滿2000 則不打折。"
      ]
    },
    {
      "cell_type": "code",
      "metadata": {
        "id": "pwsktyutz6qF",
        "colab": {
          "base_uri": "https://localhost:8080/"
        },
        "outputId": "66713c4b-4216-4769-e1cc-7b78e96eb6c8"
      },
      "source": [
        "## 滿2000 打九折\n",
        "cost = int(input('請輸入購買金額?'))\n",
        "if cost >= 2000:\n",
        "   print(cost * 0.9)\n",
        "else:\n",
        "   print(cost) "
      ],
      "execution_count": 3,
      "outputs": [
        {
          "output_type": "stream",
          "text": [
            "請輸入購買金額?500\n",
            "500\n"
          ],
          "name": "stdout"
        }
      ]
    },
    {
      "cell_type": "markdown",
      "metadata": {
        "id": "VGatGj8-zaXf"
      },
      "source": [
        "#### 隨堂練習: 判斷奇偶數\n",
        "\n",
        "請寫一個程式判斷輸入的值是奇數還是偶數。"
      ]
    },
    {
      "cell_type": "code",
      "metadata": {
        "colab": {
          "base_uri": "https://localhost:8080/"
        },
        "id": "5U8zQU0O3CPz",
        "outputId": "759c4b42-e07c-4602-8b9f-c2932536c05f"
      },
      "source": [
        "num = int(input('請輸入一個整數?'))\n",
        "if num % 2==0:   # 餘數為1是奇數\n",
        "   print(num, '為奇數')\n",
        "else:\n",
        "  print(num, '為偶數')"
      ],
      "execution_count": 19,
      "outputs": [
        {
          "output_type": "stream",
          "text": [
            "請輸入一個整數?3\n",
            "3 為偶數\n"
          ],
          "name": "stdout"
        }
      ]
    },
    {
      "cell_type": "code",
      "metadata": {
        "colab": {
          "base_uri": "https://localhost:8080/"
        },
        "id": "Xv-7ihAc3Xk7",
        "outputId": "57fd8470-d0a6-4198-969d-b1304e35d8ae"
      },
      "source": [
        "num = int(input('請輸入一個整數?'))\n",
        "if num % 2==0:   # 餘數為0是偶數\n",
        "   print(num, '為偶數')\n",
        "else:\n",
        "  print(num, '為奇數')\n"
      ],
      "execution_count": 18,
      "outputs": [
        {
          "output_type": "stream",
          "text": [
            "請輸入一個整數?2\n",
            "2 為偶數\n"
          ],
          "name": "stdout"
        }
      ]
    }
  ]
}