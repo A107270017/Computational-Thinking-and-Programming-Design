{
  "nbformat": 4,
  "nbformat_minor": 0,
  "metadata": {
    "colab": {
      "name": "蕭米淇-week9-隨堂練習.ipynb",
      "provenance": [],
      "authorship_tag": "ABX9TyNv68cuPJDPbIzwH2PXxSSW",
      "include_colab_link": true
    },
    "kernelspec": {
      "name": "python3",
      "display_name": "Python 3"
    },
    "language_info": {
      "name": "python"
    }
  },
  "cells": [
    {
      "cell_type": "markdown",
      "metadata": {
        "id": "view-in-github",
        "colab_type": "text"
      },
      "source": [
        "<a href=\"https://colab.research.google.com/github/A107270017/Computational-Thinking-and-Programming-Design/blob/main/%E8%95%AD%E7%B1%B3%E6%B7%87_week9_%E9%9A%A8%E5%A0%82%E7%B7%B4%E7%BF%92.ipynb\" target=\"_parent\"><img src=\"https://colab.research.google.com/assets/colab-badge.svg\" alt=\"Open In Colab\"/></a>"
      ]
    },
    {
      "cell_type": "markdown",
      "metadata": {
        "id": "-t4NYZ3ecbUc"
      },
      "source": [
        "範例練習4-5: 賣場買飲料\n",
        "為了刺激銷售量，賣場通常買一打會比買一罐便宜，假設一罐賣20元，一打賣200元，請設計一個程式計算買幾罐需花多少錢，若不足一打就個別買。\n",
        "\n",
        "～預覽結果 輸入購買飲料的罐數，如「30」，計算結果顯示在螢幕如下。 請輸入購買飲料的罐數？30 需花費 520"
      ]
    },
    {
      "cell_type": "code",
      "metadata": {
        "colab": {
          "base_uri": "https://localhost:8080/"
        },
        "id": "BA9DDpIpcr_U",
        "outputId": "5f094cba-4c11-469e-b2ac-5af453b84a49"
      },
      "source": [
        "## Total = 200 * 幾打 ＋ 20 ＊ 罐\n",
        "## Input Data\n",
        "cans = int(input('請輸入購買飲料的罐數？')) #數字轉文字\n",
        "## Process\n",
        "total = (cans//12)*200 + (cans%12)*20\n",
        "## Output\n",
        "print('需花費', total)"
      ],
      "execution_count": 1,
      "outputs": [
        {
          "output_type": "stream",
          "text": [
            "請輸入購買飲料的罐數？20\n",
            "需花費 360\n"
          ],
          "name": "stdout"
        }
      ]
    },
    {
      "cell_type": "markdown",
      "metadata": {
        "id": "CCFHlm9fdIjE"
      },
      "source": [
        "買20罐需要花費360元"
      ]
    },
    {
      "cell_type": "markdown",
      "metadata": {
        "id": "MtdXDAfOdU3T"
      },
      "source": [
        "隨堂練習： 請計算NBA 史上最偉大的中鋒之一，「柴油引擎」俠客歐尼爾（Shaquille O’Neal）巔峰時期的BMI。 當時他的身高(216cm)與體重(147kg)，而其所對應的身體質量指數公式為BMI ＝ 公斤 / 公尺平方。"
      ]
    },
    {
      "cell_type": "code",
      "metadata": {
        "colab": {
          "base_uri": "https://localhost:8080/"
        },
        "id": "no4bmAmAdXKL",
        "outputId": "efb05dec-8272-4de2-9245-dcf5fc54a39d"
      },
      "source": [
        "player_name = input(\"請輸入球員姓名：\")\n",
        "player_height = input(\"請輸入球員身高（cm）：\")\n",
        "player_weight = input(\"請輸入球員體重（kg）：\")\n",
        "\n",
        "player_height = float(player_height)\n",
        "player_weight = float(player_weight)\n",
        "player_bmi = player_weight/(player_height*0.01)**2\n",
        "\n",
        "print(\"{}的身體質量指數為：{:.2f}\".format(player_name, player_bmi))\n",
        "print(player_name,'的身體質量指數為', player_bmi )"
      ],
      "execution_count": 2,
      "outputs": [
        {
          "output_type": "stream",
          "text": [
            "請輸入球員姓名：haquille O’Neal\n",
            "請輸入球員身高（cm）：216\n",
            "請輸入球員體重（kg）：147\n",
            "haquille O’Neal的身體質量指數為：31.51\n",
            "haquille O’Neal 的身體質量指數為 31.507201646090532\n"
          ],
          "name": "stdout"
        }
      ]
    },
    {
      "cell_type": "markdown",
      "metadata": {
        "id": "5q8igKqud8Yb"
      },
      "source": [
        "電影資訊"
      ]
    },
    {
      "cell_type": "code",
      "metadata": {
        "colab": {
          "base_uri": "https://localhost:8080/"
        },
        "id": "x1sm1fVgeJlS",
        "outputId": "fe17256a-dead-4b00-94fb-500d0975738a"
      },
      "source": [
        "## 1. 從IMBD電影資料庫找出要記錄的魔球電影相關資訊\n",
        "## 網址：https://www.imdb.com/title/tt1210166/\n",
        "## 相關資訊：電影名稱、放映日期......\n",
        "\n",
        "## 2. 在Python用變數儲存資訊\n",
        "movie_title = \"money ball\" # 電影名稱\n",
        "release_year = \"2011\"  # 放映日期\n",
        "movie_time_min = 133 # 片長\n",
        "movie_rating = 7.6 #評分\n",
        "\n",
        "director = \"Bennett Miller\" # 導演\n",
        "stars_1 = \"Brad Pitt\" #主要演員\n",
        "stars_2 = \"Robin Wright\"\n",
        "stars_3 = \"Jonah Hill\" \n",
        " \n",
        "like = 1 # 你喜不喜歡\n",
        "\n",
        "## 3. 印出魔球電影的相關資訊\n",
        "print(movie_title)  # 螢幕列印\n",
        "print(release_year)\n",
        "print(movie_time_min)"
      ],
      "execution_count": 3,
      "outputs": [
        {
          "output_type": "stream",
          "text": [
            "money ball\n",
            "2011\n",
            "133\n"
          ],
          "name": "stdout"
        }
      ]
    },
    {
      "cell_type": "markdown",
      "metadata": {
        "id": "fyNiyF1oetWD"
      },
      "source": [
        " 時間轉換"
      ]
    },
    {
      "cell_type": "code",
      "metadata": {
        "colab": {
          "base_uri": "https://localhost:8080/"
        },
        "id": "x0Ihzlpve65L",
        "outputId": "6e2ae507-5384-4c52-dc38-3806bb01ca8a"
      },
      "source": [
        "# 將123分鐘轉成2小時3分鐘\n",
        "## 1. 建立變數，輸入資料並儲存\n",
        "time = 123\n",
        "\n",
        "## 2. 方法（一）\n",
        "## 變數轉換為小時數\n",
        "hours = time/60 # 123/60 = 2.05\n",
        "hours1 = int(hours) #取整數為「時」\n",
        " \n",
        "## 取得轉換後的分鐘數\n",
        "minutes = hours1 - hours #2.05-2 = 0.05\n",
        "minutes1 = round(minutes*60) # 0.05*60 = 3，但要四捨五入 \n",
        "\n",
        "## 3. 顯示結果\n",
        "print(time, \"is equal to\", hours1, \"Hours and\", minutes1, \"Minutes\")"
      ],
      "execution_count": 6,
      "outputs": [
        {
          "output_type": "stream",
          "text": [
            "123 is equal to 2 Hours and -3 Minutes\n"
          ],
          "name": "stdout"
        }
      ]
    },
    {
      "cell_type": "code",
      "metadata": {
        "colab": {
          "base_uri": "https://localhost:8080/"
        },
        "id": "ih0OuGMGkOBE",
        "outputId": "87bc1136-bf3f-43fc-cf77-78ac29f39660"
      },
      "source": [
        "# 1. 建立變數，輸入資料並儲存\n",
        "time = 123\n",
        "\n",
        "# 2. 方法（二）運算子\n",
        "hours2 = time // 60  #商數為小時數\n",
        "minutes2 = time % 60  #餘數為分鐘數\n",
        "\n",
        "# 3. 顯示結果\n",
        "print(time, \"is equal to\", hours2, \"Hours and\", minutes2, \"Minutes\")"
      ],
      "execution_count": 7,
      "outputs": [
        {
          "output_type": "stream",
          "text": [
            "123 is equal to 2 Hours and 3 Minutes\n"
          ],
          "name": "stdout"
        }
      ]
    },
    {
      "cell_type": "code",
      "metadata": {
        "id": "X17oiQaOkaMC"
      },
      "source": [
        ""
      ],
      "execution_count": null,
      "outputs": []
    }
  ]
}