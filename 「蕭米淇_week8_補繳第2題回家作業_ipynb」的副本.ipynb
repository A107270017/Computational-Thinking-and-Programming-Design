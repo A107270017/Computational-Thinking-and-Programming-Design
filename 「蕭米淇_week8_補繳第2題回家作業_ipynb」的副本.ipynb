{
  "nbformat": 4,
  "nbformat_minor": 0,
  "metadata": {
    "colab": {
      "name": "「蕭米淇-week8-補繳第2題回家作業.ipynb」的副本",
      "provenance": [],
      "authorship_tag": "ABX9TyOIf9R+Q/CoUdhyEfLX65WK",
      "include_colab_link": true
    },
    "kernelspec": {
      "name": "python3",
      "display_name": "Python 3"
    },
    "language_info": {
      "name": "python"
    }
  },
  "cells": [
    {
      "cell_type": "markdown",
      "metadata": {
        "id": "view-in-github",
        "colab_type": "text"
      },
      "source": [
        "<a href=\"https://colab.research.google.com/github/A107270017/Computational-Thinking-and-Programming-Design/blob/main/%E3%80%8C%E8%95%AD%E7%B1%B3%E6%B7%87_week8_%E8%A3%9C%E7%B9%B3%E7%AC%AC2%E9%A1%8C%E5%9B%9E%E5%AE%B6%E4%BD%9C%E6%A5%AD_ipynb%E3%80%8D%E7%9A%84%E5%89%AF%E6%9C%AC.ipynb\" target=\"_parent\"><img src=\"https://colab.research.google.com/assets/colab-badge.svg\" alt=\"Open In Colab\"/></a>"
      ]
    },
    {
      "cell_type": "markdown",
      "metadata": {
        "id": "-cdPwuKLIWeS"
      },
      "source": [
        "練習5: 整理圖書\n",
        "輸入兩個正整數a = 13和b = 11，將換a和b的值，即a = 11和b = 13。"
      ]
    },
    {
      "cell_type": "code",
      "metadata": {
        "colab": {
          "base_uri": "https://localhost:8080/"
        },
        "id": "M_Hr3whYIYJV",
        "outputId": "db227dd3-804c-492f-faab-46057ce281c7"
      },
      "source": [
        "a = eval(input('a'))\n",
        "b = eval(input('b'))\n",
        "a, b = b, a\n",
        "print(a, b)"
      ],
      "execution_count": null,
      "outputs": [
        {
          "output_type": "stream",
          "text": [
            "a13\n",
            "b11\n",
            "11 13\n"
          ],
          "name": "stdout"
        }
      ]
    },
    {
      "cell_type": "markdown",
      "metadata": {
        "id": "zFaMuh1rfYNK"
      },
      "source": [
        "糖果屋"
      ]
    },
    {
      "cell_type": "code",
      "metadata": {
        "colab": {
          "base_uri": "https://localhost:8080/"
        },
        "id": "mMa8PIbTfaT-",
        "outputId": "74cc1999-4798-4b90-d02f-51eed2ab5b91"
      },
      "source": [
        "## Input\n",
        "a,b,c,d,e,f = eval(input(\"Enter a number\"))\n",
        "\n",
        "## Process + Output\n",
        "a = a//3 ; b = b + a ; f = f + a\n",
        "print(f\"a = {a} b = {b} c = {c} d = {d} e = {e} f = {f}\")\n",
        "\n",
        "b = b//3 ; a = a + b ; c = c + b\n",
        "print(f\"a = {a} b = {b} c = {c} d = {d} e = {e} f = {f}\")\n",
        "\n",
        "c = c//3 ; b = b + c ; d = d + c\n",
        "print(f\"a = {a} b = {b} c = {c} d = {d} e = {e} f = {f}\")\n",
        "\n"
      ],
      "execution_count": 5,
      "outputs": [
        {
          "output_type": "stream",
          "text": [
            "Enter a number1,2,3,4,5,6\n",
            "a = 0 b = 2 c = 3 d = 4 e = 5 f = 6\n",
            "a = 0 b = 0 c = 3 d = 4 e = 5 f = 6\n",
            "a = 0 b = 1 c = 1 d = 5 e = 5 f = 6\n"
          ],
          "name": "stdout"
        }
      ]
    }
  ]
}